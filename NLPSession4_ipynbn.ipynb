{
  "nbformat": 4,
  "nbformat_minor": 0,
  "metadata": {
    "colab": {
      "provenance": [],
      "authorship_tag": "ABX9TyMuDxSPcUqdcAIffIarjaWg",
      "include_colab_link": true
    },
    "kernelspec": {
      "name": "python3",
      "display_name": "Python 3"
    },
    "language_info": {
      "name": "python"
    }
  },
  "cells": [
    {
      "cell_type": "markdown",
      "metadata": {
        "id": "view-in-github",
        "colab_type": "text"
      },
      "source": [
        "<a href=\"https://colab.research.google.com/github/aarnav2425/newproject/blob/main/NLPSession4_ipynbn.ipynb\" target=\"_parent\"><img src=\"https://colab.research.google.com/assets/colab-badge.svg\" alt=\"Open In Colab\"/></a>"
      ]
    },
    {
      "cell_type": "code",
      "execution_count": null,
      "metadata": {
        "id": "sKHlA6y7grn7"
      },
      "outputs": [],
      "source": [
        "# hands on session 4 nlp 20BCE2210"
      ]
    },
    {
      "cell_type": "code",
      "source": [
        "from sklearn.feature_extraction.text import CountVectorizer\n",
        "vect=CountVectorizer(binary=True)\n"
      ],
      "metadata": {
        "id": "Cg3Yv-uPgzzE"
      },
      "execution_count": null,
      "outputs": []
    },
    {
      "cell_type": "code",
      "source": [
        "corpus=[\"I have a German Shepherd\",\"German Shepherd is from Germany\",\"Germans loves gossiping\"]"
      ],
      "metadata": {
        "id": "hvmqlyzhjDub"
      },
      "execution_count": null,
      "outputs": []
    },
    {
      "cell_type": "code",
      "source": [
        "vect.fit(corpus)"
      ],
      "metadata": {
        "colab": {
          "base_uri": "https://localhost:8080/"
        },
        "id": "PFiArycrjfFd",
        "outputId": "13dcd764-fea4-4156-8c6d-ec736ffa0f8a"
      },
      "execution_count": null,
      "outputs": [
        {
          "output_type": "execute_result",
          "data": {
            "text/plain": [
              "CountVectorizer(binary=True)"
            ]
          },
          "metadata": {},
          "execution_count": 3
        }
      ]
    },
    {
      "cell_type": "code",
      "source": [
        "vocab=vect.vocabulary_"
      ],
      "metadata": {
        "id": "-_JozMskjrKX"
      },
      "execution_count": null,
      "outputs": []
    },
    {
      "cell_type": "code",
      "source": [
        "for key in vocab.keys():\n",
        "  print(\"{}:{}\".format(key,vocab[key]))"
      ],
      "metadata": {
        "colab": {
          "base_uri": "https://localhost:8080/"
        },
        "id": "5cFug1KtjujM",
        "outputId": "cc24e9dd-cf43-42fb-a8a2-27b8c2098309"
      },
      "execution_count": null,
      "outputs": [
        {
          "output_type": "stream",
          "name": "stdout",
          "text": [
            "have:5\n",
            "german:1\n",
            "shepherd:8\n",
            "is:6\n",
            "from:0\n",
            "germany:3\n",
            "germans:2\n",
            "loves:7\n",
            "gossiping:4\n"
          ]
        }
      ]
    },
    {
      "cell_type": "code",
      "source": [
        "print(vect.transform([\"Germany has german shepherd \"]).toarray())"
      ],
      "metadata": {
        "colab": {
          "base_uri": "https://localhost:8080/"
        },
        "id": "q_DzNh9nkT-W",
        "outputId": "cc021f26-fa7d-4ae8-deae-7c001a1a51be"
      },
      "execution_count": null,
      "outputs": [
        {
          "output_type": "stream",
          "name": "stdout",
          "text": [
            "[[0 1 0 1 0 0 0 0 1]]\n"
          ]
        }
      ]
    },
    {
      "cell_type": "code",
      "source": [
        "from sklearn.metrics.pairwise import cosine_similarity\n",
        "similarity=cosine_similarity(vect.transform([\"Germany is known for love\"]).toarray(),vect.transform([\"Germany has german shepherd \"]).toarray())"
      ],
      "metadata": {
        "id": "fUWVILn1k7wJ"
      },
      "execution_count": null,
      "outputs": []
    },
    {
      "cell_type": "code",
      "source": [
        "print(similarity)"
      ],
      "metadata": {
        "colab": {
          "base_uri": "https://localhost:8080/"
        },
        "id": "gw493egZlm3f",
        "outputId": "6744ce85-0c0e-4449-b42c-e73744b358e5"
      },
      "execution_count": null,
      "outputs": [
        {
          "output_type": "stream",
          "name": "stdout",
          "text": [
            "[[0.40824829]]\n"
          ]
        }
      ]
    }
  ]
}